{
  "nbformat": 4,
  "nbformat_minor": 0,
  "metadata": {
    "colab": {
      "provenance": [],
      "gpuType": "T4"
    },
    "kernelspec": {
      "name": "python3",
      "display_name": "Python 3"
    },
    "language_info": {
      "name": "python"
    },
    "accelerator": "GPU"
  },
  "cells": [
    {
      "cell_type": "code",
      "source": [],
      "metadata": {
        "id": "2HZymHoHCg32"
      },
      "execution_count": null,
      "outputs": []
    },
    {
      "cell_type": "code",
      "source": [
        "!pip install spacy"
      ],
      "metadata": {
        "colab": {
          "base_uri": "https://localhost:8080/"
        },
        "id": "RzJ75fhOCFyW",
        "outputId": "9ecf234d-20ba-480e-fbdd-460e127c0f83"
      },
      "execution_count": null,
      "outputs": [
        {
          "output_type": "stream",
          "name": "stdout",
          "text": [
            "Requirement already satisfied: spacy in /usr/local/lib/python3.10/dist-packages (3.6.1)\n",
            "Requirement already satisfied: spacy-legacy<3.1.0,>=3.0.11 in /usr/local/lib/python3.10/dist-packages (from spacy) (3.0.12)\n",
            "Requirement already satisfied: spacy-loggers<2.0.0,>=1.0.0 in /usr/local/lib/python3.10/dist-packages (from spacy) (1.0.4)\n",
            "Requirement already satisfied: murmurhash<1.1.0,>=0.28.0 in /usr/local/lib/python3.10/dist-packages (from spacy) (1.0.9)\n",
            "Requirement already satisfied: cymem<2.1.0,>=2.0.2 in /usr/local/lib/python3.10/dist-packages (from spacy) (2.0.7)\n",
            "Requirement already satisfied: preshed<3.1.0,>=3.0.2 in /usr/local/lib/python3.10/dist-packages (from spacy) (3.0.8)\n",
            "Requirement already satisfied: thinc<8.2.0,>=8.1.8 in /usr/local/lib/python3.10/dist-packages (from spacy) (8.1.12)\n",
            "Requirement already satisfied: wasabi<1.2.0,>=0.9.1 in /usr/local/lib/python3.10/dist-packages (from spacy) (1.1.2)\n",
            "Requirement already satisfied: srsly<3.0.0,>=2.4.3 in /usr/local/lib/python3.10/dist-packages (from spacy) (2.4.7)\n",
            "Requirement already satisfied: catalogue<2.1.0,>=2.0.6 in /usr/local/lib/python3.10/dist-packages (from spacy) (2.0.9)\n",
            "Requirement already satisfied: typer<0.10.0,>=0.3.0 in /usr/local/lib/python3.10/dist-packages (from spacy) (0.9.0)\n",
            "Requirement already satisfied: pathy>=0.10.0 in /usr/local/lib/python3.10/dist-packages (from spacy) (0.10.2)\n",
            "Requirement already satisfied: smart-open<7.0.0,>=5.2.1 in /usr/local/lib/python3.10/dist-packages (from spacy) (6.4.0)\n",
            "Requirement already satisfied: tqdm<5.0.0,>=4.38.0 in /usr/local/lib/python3.10/dist-packages (from spacy) (4.66.1)\n",
            "Requirement already satisfied: numpy>=1.15.0 in /usr/local/lib/python3.10/dist-packages (from spacy) (1.23.5)\n",
            "Requirement already satisfied: requests<3.0.0,>=2.13.0 in /usr/local/lib/python3.10/dist-packages (from spacy) (2.31.0)\n",
            "Requirement already satisfied: pydantic!=1.8,!=1.8.1,<3.0.0,>=1.7.4 in /usr/local/lib/python3.10/dist-packages (from spacy) (1.10.12)\n",
            "Requirement already satisfied: jinja2 in /usr/local/lib/python3.10/dist-packages (from spacy) (3.1.2)\n",
            "Requirement already satisfied: setuptools in /usr/local/lib/python3.10/dist-packages (from spacy) (67.7.2)\n",
            "Requirement already satisfied: packaging>=20.0 in /usr/local/lib/python3.10/dist-packages (from spacy) (23.1)\n",
            "Requirement already satisfied: langcodes<4.0.0,>=3.2.0 in /usr/local/lib/python3.10/dist-packages (from spacy) (3.3.0)\n",
            "Requirement already satisfied: typing-extensions>=4.2.0 in /usr/local/lib/python3.10/dist-packages (from pydantic!=1.8,!=1.8.1,<3.0.0,>=1.7.4->spacy) (4.5.0)\n",
            "Requirement already satisfied: charset-normalizer<4,>=2 in /usr/local/lib/python3.10/dist-packages (from requests<3.0.0,>=2.13.0->spacy) (3.2.0)\n",
            "Requirement already satisfied: idna<4,>=2.5 in /usr/local/lib/python3.10/dist-packages (from requests<3.0.0,>=2.13.0->spacy) (3.4)\n",
            "Requirement already satisfied: urllib3<3,>=1.21.1 in /usr/local/lib/python3.10/dist-packages (from requests<3.0.0,>=2.13.0->spacy) (2.0.4)\n",
            "Requirement already satisfied: certifi>=2017.4.17 in /usr/local/lib/python3.10/dist-packages (from requests<3.0.0,>=2.13.0->spacy) (2023.7.22)\n",
            "Requirement already satisfied: blis<0.8.0,>=0.7.8 in /usr/local/lib/python3.10/dist-packages (from thinc<8.2.0,>=8.1.8->spacy) (0.7.10)\n",
            "Requirement already satisfied: confection<1.0.0,>=0.0.1 in /usr/local/lib/python3.10/dist-packages (from thinc<8.2.0,>=8.1.8->spacy) (0.1.2)\n",
            "Requirement already satisfied: click<9.0.0,>=7.1.1 in /usr/local/lib/python3.10/dist-packages (from typer<0.10.0,>=0.3.0->spacy) (8.1.7)\n",
            "Requirement already satisfied: MarkupSafe>=2.0 in /usr/local/lib/python3.10/dist-packages (from jinja2->spacy) (2.1.3)\n"
          ]
        }
      ]
    },
    {
      "cell_type": "code",
      "source": [
        "pip install PyPDF2"
      ],
      "metadata": {
        "colab": {
          "base_uri": "https://localhost:8080/"
        },
        "id": "aswhh-XZ7IH4",
        "outputId": "2700ee66-5a29-4a6f-d4b3-2cad775f5283"
      },
      "execution_count": null,
      "outputs": [
        {
          "output_type": "stream",
          "name": "stdout",
          "text": [
            "Collecting PyPDF2\n",
            "  Downloading pypdf2-3.0.1-py3-none-any.whl (232 kB)\n",
            "\u001b[2K     \u001b[90m━━━━━━━━━━━━━━━━━━━━━━━━━━━━━━━━━━━━━━━\u001b[0m \u001b[32m232.6/232.6 kB\u001b[0m \u001b[31m5.0 MB/s\u001b[0m eta \u001b[36m0:00:00\u001b[0m\n",
            "\u001b[?25hInstalling collected packages: PyPDF2\n",
            "Successfully installed PyPDF2-3.0.1\n"
          ]
        }
      ]
    },
    {
      "cell_type": "code",
      "source": [
        "import PyPDF2\n",
        "\n",
        "def extract_abstract_from_pdf(pdf_path):\n",
        "    abstract = \"\"\n",
        "\n",
        "    with open(\"/Research_paper 1.pdf\", \"rb\") as pdf_file:\n",
        "        pdf_reader = PyPDF2.PdfReader(pdf_file)\n",
        "\n",
        "        # Iterate through each page of the PDF\n",
        "        for page_num in range(len(pdf_reader.pages)):\n",
        "            page = pdf_reader.pages[page_num]\n",
        "            page_text = page.extract_text()\n",
        "\n",
        "            # Check if the page contains the word \"Abstract\" (case insensitive)\n",
        "            if \"abstract\" in page_text.lower():\n",
        "                # Find the index of \"Abstract\"\n",
        "                abstract_start_idx = page_text.lower().find(\"abstract\")\n",
        "\n",
        "                # Extract the text from the point of \"Abstract\" onward\n",
        "                abstract = page_text[abstract_start_idx:]\n",
        "\n",
        "                # Break the loop once the abstract is found\n",
        "                break\n",
        "\n",
        "    return abstract\n",
        "\n",
        "# Example usage\n",
        "pdf_path = \"your_research_paper.pdf\"\n",
        "abstract = extract_abstract_from_pdf(pdf_path)\n",
        "print(abstract)\n"
      ],
      "metadata": {
        "id": "RGVApU6XSyPr",
        "colab": {
          "base_uri": "https://localhost:8080/"
        },
        "outputId": "c7bc1c3a-3d71-4ba5-f7c0-b65d87a2ceb7"
      },
      "execution_count": null,
      "outputs": [
        {
          "output_type": "stream",
          "name": "stdout",
          "text": [
            "ABSTRACT  \n",
            "The exposome recognizes that individuals are exposed simultaneously to a multitude of different environmental \n",
            "factors and takes a holistic approach to the discovery of etiological factors for disease. However, challenges arise \n",
            "when trying to quantify the health effects of complex exposure mixtures. Analytical challenges include dealing \n",
            "with high dimensionality, studying the combined effects of these exposures and their interactions, integrating \n",
            "causal pathways, and integrating high-throughput omics layers. To tackle these challenges, the Barcelona \n",
            "Institute for Global Health (ISGlobal) held a data challenge event open to researchers from all over the world and \n",
            "from all expertises. Analysts had a chance to compete and apply state-of-the-art methods on a common partially \n",
            "simulated exposome dataset (based on real case data from the HELIX project) with multiple correlated exposure \n",
            "variables (P F100 exposure variables) arising from general and personal environments at different time points, \n",
            "biological molecular data (multi-omics: DNA methylation, gene expression, proteins, metabolomics) and mul-\n",
            "tiple clinical phenotypes in 1301 mother –child pairs. Most of the methods presented included feature selection or \n",
            "feature reduction to deal with the high dimensionality of the exposome dataset. Several approaches explicitly \n",
            "searched for combined effects of exposures and/or their interactions using linear index models or response \n",
            "surface methods, including Bayesian methods. Other methods dealt with the multi-omics dataset in mediation \n",
            "analyses using multiple-step approaches. Here we discuss features of the statistical models used and provide the \n",
            "data and codes used, so that analysts have examples of implementation and can learn how to use these methods. \n",
            "Overall, the exposome data challenge presented a unique opportunity for researchers from different disciplines to \n",
            "create and share state-of-the-art analytical methods, setting a new standard for open science in the exposome and \n",
            "environmental health field.   \n",
            "1.Background \n",
            "The exposome is a concept of growing interest in the field of envi-\n",
            "ronmental and molecular epidemiology. Described as “the totality of human environmental exposures from conception onwards ”, it recog -\n",
            "nizes that individuals are exposed simultaneously to a multitude of \n",
            "environmental factors and takes a holistic approach to the discovery of \n",
            "etiological factors for disease. The exposome ’s main advantage over \n",
            "*Corresponding author at: ISGlobal, Barcelona, Spain. \n",
            "E-mail addresses: lea.maitre@isglobal.org (L. Maitre), jeanbaptiste.guimbaud@gmail.com (J.-B. Guimbaud), charline.warembourg@inserm.fr (C. Warembourg), \n",
            "nuria.guil@isglobal.org (N. Güil-Oumrait), paula.petrone@isglobal.org (P.M. Petrone), m.chadeau@imperial.ac.uk (M. Chadeau-Hyam), martine.vrijheid@isglobal. \n",
            "org (M. Vrijheid), xavier.basagana@isglobal.org (X. Basaga ~na), juanr.gonzalez@isglobal.org (J.R. Gonzalez).   \n",
            "1 Shared senior authorship. \n",
            "Contents lists available at ScienceDirect \n",
            "Environment International \n",
            "u{�~zkw! s{yo|kro>! ÐÐÐ1ow�o�t o~1m{y2w{m k�o2oz�tz�!\n",
            "https://doi.org/10.1016/j.envint.2022.107422 \n",
            "Received 2 February 2022; Received in revised form 22 June 2022; Accepted 15 July 2022   \n"
          ]
        }
      ]
    },
    {
      "cell_type": "code",
      "execution_count": null,
      "metadata": {
        "id": "-coo-m1R_r6b"
      },
      "outputs": [],
      "source": [
        "text=abstract"
      ]
    },
    {
      "cell_type": "code",
      "source": [
        "import spacy\n",
        "from spacy.lang.en.stop_words import STOP_WORDS\n",
        "from string import punctuation"
      ],
      "metadata": {
        "id": "NBvS-8J7B0T_"
      },
      "execution_count": null,
      "outputs": []
    },
    {
      "cell_type": "code",
      "source": [
        "stopwords = list(STOP_WORDS)\n"
      ],
      "metadata": {
        "id": "kJeEI-hCC_tA"
      },
      "execution_count": null,
      "outputs": []
    },
    {
      "cell_type": "code",
      "source": [
        "nlp = spacy.load('en_core_web_sm')"
      ],
      "metadata": {
        "id": "mLUDlDHcDIDZ"
      },
      "execution_count": null,
      "outputs": []
    },
    {
      "cell_type": "code",
      "source": [
        "doc = nlp(text)"
      ],
      "metadata": {
        "id": "6K6nY_HQDUUI"
      },
      "execution_count": null,
      "outputs": []
    },
    {
      "cell_type": "code",
      "source": [
        "tokens = [token.text for token in doc]\n",
        "print(tokens)"
      ],
      "metadata": {
        "colab": {
          "base_uri": "https://localhost:8080/"
        },
        "id": "FzXjKX5MDXus",
        "outputId": "7b9161a4-97f5-4a37-a511-d700bd10f50d"
      },
      "execution_count": null,
      "outputs": [
        {
          "output_type": "stream",
          "name": "stdout",
          "text": [
            "['ABSTRACT', ' \\n', 'The', 'exposome', 'recognizes', 'that', 'individuals', 'are', 'exposed', 'simultaneously', 'to', 'a', 'multitude', 'of', 'different', 'environmental', '\\n', 'factors', 'and', 'takes', 'a', 'holistic', 'approach', 'to', 'the', 'discovery', 'of', 'etiological', 'factors', 'for', 'disease', '.', 'However', ',', 'challenges', 'arise', '\\n', 'when', 'trying', 'to', 'quantify', 'the', 'health', 'effects', 'of', 'complex', 'exposure', 'mixtures', '.', 'Analytical', 'challenges', 'include', 'dealing', '\\n', 'with', 'high', 'dimensionality', ',', 'studying', 'the', 'combined', 'effects', 'of', 'these', 'exposures', 'and', 'their', 'interactions', ',', 'integrating', '\\n', 'causal', 'pathways', ',', 'and', 'integrating', 'high', '-', 'throughput', 'omics', 'layers', '.', 'To', 'tackle', 'these', 'challenges', ',', 'the', 'Barcelona', '\\n', 'Institute', 'for', 'Global', 'Health', '(', 'ISGlobal', ')', 'held', 'a', 'data', 'challenge', 'event', 'open', 'to', 'researchers', 'from', 'all', 'over', 'the', 'world', 'and', '\\n', 'from', 'all', 'expertises', '.', 'Analysts', 'had', 'a', 'chance', 'to', 'compete', 'and', 'apply', 'state', '-', 'of', '-', 'the', '-', 'art', 'methods', 'on', 'a', 'common', 'partially', '\\n', 'simulated', 'exposome', 'dataset', '(', 'based', 'on', 'real', 'case', 'data', 'from', 'the', 'HELIX', 'project', ')', 'with', 'multiple', 'correlated', 'exposure', '\\n', 'variables', '(', 'P', 'F100', 'exposure', 'variables', ')', 'arising', 'from', 'general', 'and', 'personal', 'environments', 'at', 'different', 'time', 'points', ',', '\\n', 'biological', 'molecular', 'data', '(', 'multi', '-', 'omics', ':', 'DNA', 'methylation', ',', 'gene', 'expression', ',', 'proteins', ',', 'metabolomics', ')', 'and', 'mul-', '\\n', 'tiple', 'clinical', 'phenotypes', 'in', '1301', 'mother', '–', 'child', 'pairs', '.', 'Most', 'of', 'the', 'methods', 'presented', 'included', 'feature', 'selection', 'or', '\\n', 'feature', 'reduction', 'to', 'deal', 'with', 'the', 'high', 'dimensionality', 'of', 'the', 'exposome', 'dataset', '.', 'Several', 'approaches', 'explicitly', '\\n', 'searched', 'for', 'combined', 'effects', 'of', 'exposures', 'and/or', 'their', 'interactions', 'using', 'linear', 'index', 'models', 'or', 'response', '\\n', 'surface', 'methods', ',', 'including', 'Bayesian', 'methods', '.', 'Other', 'methods', 'dealt', 'with', 'the', 'multi', '-', 'omics', 'dataset', 'in', 'mediation', '\\n', 'analyses', 'using', 'multiple', '-', 'step', 'approaches', '.', 'Here', 'we', 'discuss', 'features', 'of', 'the', 'statistical', 'models', 'used', 'and', 'provide', 'the', '\\n', 'data', 'and', 'codes', 'used', ',', 'so', 'that', 'analysts', 'have', 'examples', 'of', 'implementation', 'and', 'can', 'learn', 'how', 'to', 'use', 'these', 'methods', '.', '\\n', 'Overall', ',', 'the', 'exposome', 'data', 'challenge', 'presented', 'a', 'unique', 'opportunity', 'for', 'researchers', 'from', 'different', 'disciplines', 'to', '\\n', 'create', 'and', 'share', 'state', '-', 'of', '-', 'the', '-', 'art', 'analytical', 'methods', ',', 'setting', 'a', 'new', 'standard', 'for', 'open', 'science', 'in', 'the', 'exposome', 'and', '\\n', 'environmental', 'health', 'field', '.', '  \\n', '1.Background', '\\n', 'The', 'exposome', 'is', 'a', 'concept', 'of', 'growing', 'interest', 'in', 'the', 'field', 'of', 'envi-', '\\n', 'ronmental', 'and', 'molecular', 'epidemiology', '.', 'Described', 'as', '“', 'the', 'totality', 'of', 'human', 'environmental', 'exposures', 'from', 'conception', 'onwards', '”', ',', 'it', 'recog', '-', '\\n', 'nizes', 'that', 'individuals', 'are', 'exposed', 'simultaneously', 'to', 'a', 'multitude', 'of', '\\n', 'environmental', 'factors', 'and', 'takes', 'a', 'holistic', 'approach', 'to', 'the', 'discovery', 'of', '\\n', 'etiological', 'factors', 'for', 'disease', '.', 'The', 'exposome', '’s', 'main', 'advantage', 'over', '\\n', '*', 'Corresponding', 'author', 'at', ':', 'ISGlobal', ',', 'Barcelona', ',', 'Spain', '.', '\\n', 'E', '-', 'mail', 'addresses', ':', 'lea.maitre@isglobal.org', '(', 'L.', 'Maitre', ')', ',', 'jeanbaptiste.guimbaud@gmail.com', '(', 'J.-B.', 'Guimbaud', ')', ',', 'charline.warembourg@inserm.fr', '(', 'C.', 'Warembourg', ')', ',', '\\n', 'nuria.guil@isglobal.org', '(', 'N.', 'Güil', '-', 'Oumrait', ')', ',', 'paula.petrone@isglobal.org', '(', 'P.M.', 'Petrone', ')', ',', 'm.chadeau@imperial.ac.uk', '(', 'M.', 'Chadeau', '-', 'Hyam', ')', ',', 'martine.vrijheid@isglobal', '.', '\\n', 'org', '(', 'M.', 'Vrijheid', ')', ',', 'xavier.basagana@isglobal.org', '(', 'X.', 'Basaga', '~na', ')', ',', 'juanr.gonzalez@isglobal.org', '(', 'J.R.', 'Gonzalez', ')', '.', '  \\n', '1', 'Shared', 'senior', 'authorship', '.', '\\n', 'Contents', 'lists', 'available', 'at', 'ScienceDirect', '\\n', 'Environment', 'International', '\\n', 'u{', '�', '~zkw', '!', 's{yo|kro', '>', '!', 'ÐÐÐ1ow', '�', 'o', '�', 't', 'o~1m{y2w{m', 'k', '�', 'o2oz', '�', 'tz', '�', '!', '\\n', 'https://doi.org/10.1016/j.envint.2022.107422', '\\n', 'Received', '2', 'February', '2022', ';', 'Received', 'in', 'revised', 'form', '22', 'June', '2022', ';', 'Accepted', '15', 'July', '2022', '  ']\n"
          ]
        }
      ]
    },
    {
      "cell_type": "code",
      "source": [
        "punctuation = punctuation + \"\\n\"\n",
        "punctuation"
      ],
      "metadata": {
        "colab": {
          "base_uri": "https://localhost:8080/",
          "height": 36
        },
        "id": "PbOVQJJ-DkHM",
        "outputId": "59f035e1-37aa-4b11-91d9-4281d9ea2b54"
      },
      "execution_count": null,
      "outputs": [
        {
          "output_type": "execute_result",
          "data": {
            "text/plain": [
              "'!\"#$%&\\'()*+,-./:;<=>?@[\\\\]^_`{|}~\\n'"
            ],
            "application/vnd.google.colaboratory.intrinsic+json": {
              "type": "string"
            }
          },
          "metadata": {},
          "execution_count": 17
        }
      ]
    },
    {
      "cell_type": "code",
      "source": [
        "word_frequencies = {}\n",
        "for word in doc:\n",
        "  if word.text.lower() not in stopwords:\n",
        "    if word.text.lower() not in punctuation:\n",
        "      if word.text not in word_frequencies.keys():\n",
        "        word_frequencies[word.text] = 1\n",
        "      else:\n",
        "        word_frequencies[word.text] += 1"
      ],
      "metadata": {
        "id": "-wqHi2rfDoDi"
      },
      "execution_count": null,
      "outputs": []
    },
    {
      "cell_type": "code",
      "source": [
        "#word_frequencies"
      ],
      "metadata": {
        "id": "B1gl_UDpElf6"
      },
      "execution_count": null,
      "outputs": []
    },
    {
      "cell_type": "code",
      "source": [
        "max_frequency = max(word_frequencies.values())\n",
        "max_frequency"
      ],
      "metadata": {
        "colab": {
          "base_uri": "https://localhost:8080/"
        },
        "id": "EBWJO1x8En9L",
        "outputId": "70403bb6-9912-4bdb-f6c2-815c97cbd1aa"
      },
      "execution_count": null,
      "outputs": [
        {
          "output_type": "execute_result",
          "data": {
            "text/plain": [
              "7"
            ]
          },
          "metadata": {},
          "execution_count": 20
        }
      ]
    },
    {
      "cell_type": "code",
      "source": [
        "sentence_tokens = [sent for sent in doc.sents]"
      ],
      "metadata": {
        "id": "hRdM1Y3-K8eY"
      },
      "execution_count": null,
      "outputs": []
    },
    {
      "cell_type": "code",
      "source": [
        "sentence_scores = {}\n",
        "for sent in sentence_tokens:\n",
        "  for word in sent:\n",
        "    if word.text.lower() in word_frequencies.keys():\n",
        "      if sent not in sentence_scores.keys():\n",
        "        sentence_scores[sent] = word_frequencies[word.text.lower()]\n",
        "      else:\n",
        "        sentence_scores[sent] = word_frequencies[word.text.lower()]\n"
      ],
      "metadata": {
        "id": "mYmT5UWrEyVx"
      },
      "execution_count": null,
      "outputs": []
    },
    {
      "cell_type": "code",
      "source": [
        "from heapq import nlargest"
      ],
      "metadata": {
        "id": "HKvMsXJLLRrA"
      },
      "execution_count": null,
      "outputs": []
    },
    {
      "cell_type": "code",
      "source": [
        "select_length = int(len(sentence_tokens)*0.3)\n",
        "select_length"
      ],
      "metadata": {
        "colab": {
          "base_uri": "https://localhost:8080/"
        },
        "id": "mdWK6NthLVAB",
        "outputId": "b9f6001c-ea2b-43f8-f09e-e32d83847ae0"
      },
      "execution_count": null,
      "outputs": [
        {
          "output_type": "execute_result",
          "data": {
            "text/plain": [
              "6"
            ]
          },
          "metadata": {},
          "execution_count": 24
        }
      ]
    },
    {
      "cell_type": "code",
      "source": [
        "summary = nlargest(select_length,sentence_scores,key = sentence_scores.get)"
      ],
      "metadata": {
        "id": "5Bg166PPLj4Z"
      },
      "execution_count": null,
      "outputs": []
    },
    {
      "cell_type": "code",
      "source": [
        "summary"
      ],
      "metadata": {
        "colab": {
          "base_uri": "https://localhost:8080/"
        },
        "id": "pGwFh45PL2up",
        "outputId": "a0b4cfd4-e2a4-44c1-a7ea-609d8d39e2db"
      },
      "execution_count": null,
      "outputs": [
        {
          "output_type": "execute_result",
          "data": {
            "text/plain": [
              "[Several approaches explicitly \n",
              " searched for combined effects of exposures and/or their interactions using linear index models or response \n",
              " surface methods, including Bayesian methods.,\n",
              " Here we discuss features of the statistical models used and provide the \n",
              " data and codes used, so that analysts have examples of implementation and can learn how to use these methods. ,\n",
              " Most of the methods presented included feature selection or \n",
              " feature reduction to deal with the high dimensionality of the exposome dataset.,\n",
              " ABSTRACT  \n",
              " The exposome recognizes that individuals are exposed simultaneously to a multitude of different environmental \n",
              " factors and takes a holistic approach to the discovery of etiological factors for disease.,\n",
              " Other methods dealt with the multi-omics dataset in mediation \n",
              " analyses using multiple-step approaches.,\n",
              " Overall, the exposome data challenge presented a unique opportunity for researchers from different disciplines to \n",
              " create and share state-of-the-art analytical methods, setting a new standard for open science in the exposome and \n",
              " environmental health field.   ]"
            ]
          },
          "metadata": {},
          "execution_count": 26
        }
      ]
    },
    {
      "cell_type": "code",
      "source": [
        "result = \" \".join([token.text for token in summary])"
      ],
      "metadata": {
        "id": "qvZlpwF4MC_X"
      },
      "execution_count": null,
      "outputs": []
    },
    {
      "cell_type": "code",
      "source": [
        "result = result.replace(\"\\n\",\" \")"
      ],
      "metadata": {
        "id": "4TY6v-l3NWxH"
      },
      "execution_count": null,
      "outputs": []
    },
    {
      "cell_type": "code",
      "source": [
        "result"
      ],
      "metadata": {
        "colab": {
          "base_uri": "https://localhost:8080/",
          "height": 140
        },
        "id": "q1KyLoofOIF_",
        "outputId": "cdab1584-a14b-48dd-d96c-d94917bfaed0"
      },
      "execution_count": null,
      "outputs": [
        {
          "output_type": "execute_result",
          "data": {
            "text/plain": [
              "'Several approaches explicitly  searched for combined effects of exposures and/or their interactions using linear index models or response  surface methods, including Bayesian methods. Here we discuss features of the statistical models used and provide the  data and codes used, so that analysts have examples of implementation and can learn how to use these methods.   Most of the methods presented included feature selection or  feature reduction to deal with the high dimensionality of the exposome dataset. ABSTRACT   The exposome recognizes that individuals are exposed simultaneously to a multitude of different environmental  factors and takes a holistic approach to the discovery of etiological factors for disease. Other methods dealt with the multi-omics dataset in mediation  analyses using multiple-step approaches. Overall, the exposome data challenge presented a unique opportunity for researchers from different disciplines to  create and share state-of-the-art analytical methods, setting a new standard for open science in the exposome and  environmental health field.    '"
            ],
            "application/vnd.google.colaboratory.intrinsic+json": {
              "type": "string"
            }
          },
          "metadata": {},
          "execution_count": 29
        }
      ]
    },
    {
      "cell_type": "code",
      "source": [],
      "metadata": {
        "id": "L_DJwlV7ORCB"
      },
      "execution_count": null,
      "outputs": []
    }
  ]
}